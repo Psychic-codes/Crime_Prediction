{
 "cells": [
  {
   "cell_type": "code",
   "execution_count": 1,
   "metadata": {},
   "outputs": [],
   "source": [
    "import pandas as pd \n",
    "import numpy as np\n"
   ]
  },
  {
   "cell_type": "code",
   "execution_count": 2,
   "metadata": {},
   "outputs": [],
   "source": [
    "df = pd.read_csv(\"Crime_Data_from_2020_to_Present.csv\")"
   ]
  },
  {
   "cell_type": "code",
   "execution_count": 3,
   "metadata": {},
   "outputs": [
    {
     "data": {
      "text/plain": [
       "DR_NO                   0\n",
       "Date Rptd               0\n",
       "DATE OCC                0\n",
       "TIME OCC                0\n",
       "AREA                    0\n",
       "AREA NAME               0\n",
       "Rpt Dist No             0\n",
       "Part 1-2                0\n",
       "Crm Cd                  0\n",
       "Crm Cd Desc             0\n",
       "Mocodes            151567\n",
       "Vict Age                0\n",
       "Vict Sex           144592\n",
       "Vict Descent       144604\n",
       "Premis Cd              16\n",
       "Premis Desc           588\n",
       "Weapon Used Cd     676308\n",
       "Weapon Desc        676308\n",
       "Status                  1\n",
       "Status Desc             0\n",
       "Crm Cd 1               11\n",
       "Crm Cd 2           934330\n",
       "Crm Cd 3          1001133\n",
       "Crm Cd 4          1003384\n",
       "LOCATION                0\n",
       "Cross Street       849335\n",
       "LAT                     0\n",
       "LON                     0\n",
       "dtype: int64"
      ]
     },
     "execution_count": 3,
     "metadata": {},
     "output_type": "execute_result"
    }
   ],
   "source": [
    "df.isna().sum()"
   ]
  },
  {
   "cell_type": "code",
   "execution_count": 4,
   "metadata": {},
   "outputs": [
    {
     "name": "stderr",
     "output_type": "stream",
     "text": [
      "C:\\Users\\OM yadav\\AppData\\Local\\Temp\\ipykernel_16456\\4180793537.py:1: UserWarning: Could not infer format, so each element will be parsed individually, falling back to `dateutil`. To ensure parsing is consistent and as-expected, please specify a format.\n",
      "  df['DATE OCC'] = pd.to_datetime(df['DATE OCC'], errors='coerce')\n"
     ]
    }
   ],
   "source": [
    "df['DATE OCC'] = pd.to_datetime(df['DATE OCC'], errors='coerce')\n",
    "\n",
    "df['Year'] = df['DATE OCC'].dt.year\n",
    "df['Month'] = df['DATE OCC'].dt.month\n",
    "df['Day'] = df['DATE OCC'].dt.day"
   ]
  },
  {
   "cell_type": "code",
   "execution_count": 5,
   "metadata": {},
   "outputs": [
    {
     "data": {
      "text/plain": [
       "AREA NAME\n",
       "Central        69548\n",
       "77th Street    61703\n",
       "Pacific        59347\n",
       "Southwest      57357\n",
       "Hollywood      52350\n",
       "N Hollywood    51019\n",
       "Olympic        49997\n",
       "Southeast      49894\n",
       "Newton         49138\n",
       "Wilshire       48148\n",
       "Rampart        46772\n",
       "West LA        45671\n",
       "Northeast      42857\n",
       "Van Nuys       42819\n",
       "West Valley    42088\n",
       "Devonshire     41689\n",
       "Harbor         41311\n",
       "Topanga        41302\n",
       "Mission        40306\n",
       "Hollenbeck     37034\n",
       "Foothill       33098\n",
       "Name: count, dtype: int64"
      ]
     },
     "execution_count": 5,
     "metadata": {},
     "output_type": "execute_result"
    }
   ],
   "source": [
    "df['AREA NAME'].value_counts()"
   ]
  },
  {
   "cell_type": "code",
   "execution_count": 6,
   "metadata": {},
   "outputs": [
    {
     "data": {
      "text/plain": [
       "array(['Wilshire', 'Central', 'Southwest', 'Van Nuys', 'Hollenbeck',\n",
       "       'Rampart', 'Newton', 'Northeast', '77th Street', 'Hollywood',\n",
       "       'Harbor', 'West Valley', 'West LA', 'N Hollywood', 'Pacific',\n",
       "       'Devonshire', 'Mission', 'Southeast', 'Olympic', 'Foothill',\n",
       "       'Topanga'], dtype=object)"
      ]
     },
     "execution_count": 6,
     "metadata": {},
     "output_type": "execute_result"
    }
   ],
   "source": [
    "df['AREA NAME'].unique()"
   ]
  },
  {
   "cell_type": "code",
   "execution_count": 7,
   "metadata": {},
   "outputs": [],
   "source": [
    "# Define a mapping from detailed crime descriptions to broader crime categories\n",
    "crime_type_map = {\n",
    "    # Property Crimes\n",
    "    'VEHICLE - STOLEN': 'Property Crime',\n",
    "    'BURGLARY FROM VEHICLE': 'Property Crime',\n",
    "    'BIKE - STOLEN': 'Property Crime',\n",
    "    'SHOPLIFTING-GRAND THEFT ($950.01 & OVER)': 'Property Crime',\n",
    "    'BURGLARY': 'Property Crime',\n",
    "    'SHOPLIFTING - PETTY THEFT ($950 & UNDER)': 'Property Crime',\n",
    "    'THEFT-GRAND ($950.01 & OVER)EXCPT,GUNS,FOWL,LIVESTK,PROD': 'Property Crime',\n",
    "    'THEFT PLAIN - PETTY ($950 & UNDER)': 'Property Crime',\n",
    "    'THEFT FROM MOTOR VEHICLE - GRAND ($950.01 AND OVER)': 'Property Crime',\n",
    "    'VEHICLE - ATTEMPT STOLEN': 'Property Crime',\n",
    "    'BURGLARY FROM VEHICLE, ATTEMPTED': 'Property Crime',\n",
    "    'THEFT FROM MOTOR VEHICLE - PETTY ($950 & UNDER)': 'Property Crime',\n",
    "    'BUNCO, GRAND THEFT': 'Property Crime',\n",
    "    'BUNCO, PETTY THEFT': 'Property Crime',\n",
    "    'THEFT FROM MOTOR VEHICLE - ATTEMPT': 'Property Crime',\n",
    "    'PICKPOCKET': 'Property Crime',\n",
    "    'SHOPLIFTING - ATTEMPT': 'Property Crime',\n",
    "    'BUNCO, ATTEMPT': 'Property Crime',\n",
    "    'THEFT, PERSON': 'Property Crime',\n",
    "    'THEFT, COIN MACHINE - PETTY ($950 & UNDER)': 'Property Crime',\n",
    "    'THEFT, COIN MACHINE - GRAND ($950.01 & OVER)': 'Property Crime',\n",
    "    'THEFT, COIN MACHINE - ATTEMPT': 'Property Crime',\n",
    "    'GRAND THEFT / AUTO REPAIR': 'Property Crime',\n",
    "    'PETTY THEFT - AUTO REPAIR': 'Property Crime',\n",
    "    \n",
    "    # Violent Crimes\n",
    "    'ARSON': 'Violent Crime',\n",
    "    'INTIMATE PARTNER - SIMPLE ASSAULT': 'Violent Crime',\n",
    "    'ROBBERY': 'Violent Crime',\n",
    "    'ASSAULT WITH DEADLY WEAPON, AGGRAVATED ASSAULT': 'Violent Crime',\n",
    "    'BATTERY - SIMPLE ASSAULT': 'Violent Crime',\n",
    "    'RAPE, FORCIBLE': 'Violent Crime',\n",
    "    'CRIMINAL THREATS - NO WEAPON DISPLAYED': 'Violent Crime',\n",
    "    'BRANDISH WEAPON': 'Violent Crime',\n",
    "    'DISCHARGE FIREARMS/SHOTS FIRED': 'Violent Crime',\n",
    "    'BATTERY POLICE (SIMPLE)': 'Violent Crime',\n",
    "    'ASSAULT WITH DEADLY WEAPON ON POLICE OFFICER': 'Violent Crime',\n",
    "    'SEXUAL PENETRATION W/FOREIGN OBJECT': 'Violent Crime',\n",
    "    'SHOTS FIRED AT INHABITED DWELLING': 'Violent Crime',\n",
    "    'KIDNAPPING - GRAND ATTEMPT': 'Violent Crime',\n",
    "    'SHOTS FIRED AT MOVING VEHICLE, TRAIN OR AIRCRAFT': 'Violent Crime',\n",
    "    'CHILD ABUSE (PHYSICAL) - SIMPLE ASSAULT': 'Violent Crime',\n",
    "    'CHILD ABUSE (PHYSICAL) - AGGRAVATED ASSAULT': 'Violent Crime',\n",
    "    'CRIMINAL HOMICIDE': 'Violent Crime',\n",
    "    'STALKING': 'Violent Crime',\n",
    "    'LYNCHING - ATTEMPTED': 'Violent Crime',\n",
    "    'MANSLAUGHTER, NEGLIGENT': 'Violent Crime',\n",
    "    'BATTERY WITH SEXUAL CONTACT': 'Violent Crime',\n",
    "    'KIDNAPPING': 'Violent Crime',\n",
    "    \n",
    "    # Sex / Child-related Crimes\n",
    "    'PIMPING': 'Sex Crime',\n",
    "    'PANDERING': 'Sex Crime',\n",
    "    'ORAL COPULATION': 'Sex Crime',\n",
    "    'INDECENT EXPOSURE': 'Sex Crime',\n",
    "    'SODOMY/SEXUAL CONTACT B/W PENIS OF ONE PERS TO ANUS OTH': 'Sex Crime',\n",
    "    'CHILD PORNOGRAPHY': 'Sex Crime',\n",
    "    'LEWD/LASCIVIOUS ACTS WITH CHILD': 'Sex Crime',\n",
    "    'HUMAN TRAFFICKING - COMMERCIAL SEX ACTS': 'Sex Crime',\n",
    "    'HUMAN TRAFFICKING - INVOLUNTARY SERVITUDE': 'Sex Crime',\n",
    "    'INCEST (SEXUAL ACTS BETWEEN BLOOD RELATIVES)': 'Sex Crime',\n",
    "    'BEASTIALITY, CRIME AGAINST NATURE SEXUAL ASSLT WITH ANIM': 'Sex Crime',\n",
    "    \n",
    "    # Fraud/Financial Crimes\n",
    "    'THEFT OF IDENTITY': 'Fraud/Financial Crime',\n",
    "    'EMBEZZLEMENT, GRAND THEFT ($950.01 & OVER)': 'Fraud/Financial Crime',\n",
    "    'DOCUMENT FORGERY / STOLEN FELONY': 'Fraud/Financial Crime',\n",
    "    'EMBEZZLEMENT, PETTY THEFT ($950 & UNDER)': 'Fraud/Financial Crime',\n",
    "    'DOCUMENT WORTHLESS ($200.01 & OVER)': 'Fraud/Financial Crime',\n",
    "    'CREDIT CARDS, FRAUD USE ($950.01 & OVER)': 'Fraud/Financial Crime',\n",
    "    'CREDIT CARDS, FRAUD USE ($950 & UNDER': 'Fraud/Financial Crime',\n",
    "    'DISHONEST EMPLOYEE - GRAND THEFT': 'Fraud/Financial Crime',\n",
    "    'DEFRAUDING INNKEEPER/THEFT OF SERVICES, $950 & UNDER': 'Fraud/Financial Crime',\n",
    "    'DEFRAUDING INNKEEPER/THEFT OF SERVICES, OVER $950.01': 'Fraud/Financial Crime',\n",
    "    'COUNTERFEIT': 'Fraud/Financial Crime',\n",
    "    'GRAND THEFT / INSURANCE FRAUD': 'Fraud/Financial Crime',\n",
    "    'DISHONEST EMPLOYEE - PETTY THEFT': 'Fraud/Financial Crime',\n",
    "    \n",
    "    # Legal / Administrative\n",
    "    'VIOLATION OF COURT ORDER': 'Legal/Administrative',\n",
    "    'VIOLATION OF RESTRAINING ORDER': 'Legal/Administrative',\n",
    "    'CONTEMPT OF COURT': 'Legal/Administrative',\n",
    "    'VIOLATION OF TEMPORARY RESTRAINING ORDER': 'Legal/Administrative',\n",
    "    'FALSE POLICE REPORT': 'Legal/Administrative',\n",
    "    'FIREARMS RESTRAINING ORDER (FIREARMS RO)': 'Legal/Administrative',\n",
    "    'REPLICA FIREARMS(SALE,DISPLAY,MANUFACTURE OR DISTRIBUTE)': 'Legal/Administrative',\n",
    "    'BIGAMY': 'Legal/Administrative',\n",
    "    'BLOCKING DOOR INDUCTION CENTER': 'Legal/Administrative',\n",
    "    'INCITING A RIOT': 'Legal/Administrative',\n",
    "    \n",
    "    # Cyber / Other\n",
    "    'UNAUTHORIZED COMPUTER ACCESS': 'Cyber Crime',\n",
    "    \n",
    "    # Traffic Offenses\n",
    "    'FAILURE TO YIELD': 'Traffic Offense',\n",
    "    'RECKLESS DRIVING': 'Traffic Offense',\n",
    "    \n",
    "    # Child Crimes / Abuse\n",
    "    'CRM AGNST CHLD (13 OR UNDER) (14-15 & SUSP 10 YRS OLDER)': 'Child Crime',\n",
    "    'CHILD STEALING': 'Child Crime',\n",
    "    'CHILD NEGLECT (SEE 300 W.I.C.)': 'Child Crime',\n",
    "    'CHILD ABANDONMENT': 'Child Crime',\n",
    "    \n",
    "    # Public Order & Other\n",
    "    'OTHER MISCELLANEOUS CRIME': 'Other',\n",
    "    'LETTERS, LEWD  -  TELEPHONE CALLS, LEWD': 'Other',\n",
    "    'RESISTING ARREST': 'Other',\n",
    "    'BOMB SCARE': 'Other',\n",
    "    'FALSE IMPRISONMENT': 'Other',\n",
    "    'THROWING OBJECT AT MOVING VEHICLE': 'Other',\n",
    "    'DISTURBING THE PEACE': 'Other',\n",
    "    'CONTRIBUTING': 'Other',\n",
    "    'PROWLER': 'Other',\n",
    "    'DRUNK ROLL': 'Other',\n",
    "    'TRAIN WRECKING': 'Other',\n",
    "    'DRUNK ROLL - ATTEMPT': 'Other',\n",
    "    'FAILURE TO DISPERSE': 'Other',\n",
    "    \n",
    "    # Additional (Uncategorized / To be reviewed)\n",
    "    'LETTERS, LEWD  -  TELEPHONE CALLS, LEWD': 'Other',\n",
    "    'SEX OFFENDER REGISTRANT OUT OF COMPLIANCE': 'Other',\n",
    "}\n",
    "\n",
    "# For any crime not explicitly mapped, you might assign them as \"Other\"\n",
    "df['Crime_Category'] = df['Crm Cd Desc'].map(crime_type_map).fillna('Other')\n"
   ]
  },
  {
   "cell_type": "code",
   "execution_count": 8,
   "metadata": {},
   "outputs": [
    {
     "data": {
      "text/plain": [
       "array(['Property Crime', 'Violent Crime', 'Sex Crime', 'Other',\n",
       "       'Fraud/Financial Crime', 'Legal/Administrative', 'Cyber Crime',\n",
       "       'Child Crime', 'Traffic Offense'], dtype=object)"
      ]
     },
     "execution_count": 8,
     "metadata": {},
     "output_type": "execute_result"
    }
   ],
   "source": [
    "df['Crime_Category'].unique()"
   ]
  },
  {
   "cell_type": "code",
   "execution_count": 9,
   "metadata": {},
   "outputs": [
    {
     "data": {
      "text/html": [
       "<div>\n",
       "<style scoped>\n",
       "    .dataframe tbody tr th:only-of-type {\n",
       "        vertical-align: middle;\n",
       "    }\n",
       "\n",
       "    .dataframe tbody tr th {\n",
       "        vertical-align: top;\n",
       "    }\n",
       "\n",
       "    .dataframe thead th {\n",
       "        text-align: right;\n",
       "    }\n",
       "</style>\n",
       "<table border=\"1\" class=\"dataframe\">\n",
       "  <thead>\n",
       "    <tr style=\"text-align: right;\">\n",
       "      <th></th>\n",
       "      <th>DR_NO</th>\n",
       "      <th>Date Rptd</th>\n",
       "      <th>DATE OCC</th>\n",
       "      <th>TIME OCC</th>\n",
       "      <th>AREA</th>\n",
       "      <th>AREA NAME</th>\n",
       "      <th>Rpt Dist No</th>\n",
       "      <th>Part 1-2</th>\n",
       "      <th>Crm Cd</th>\n",
       "      <th>Crm Cd Desc</th>\n",
       "      <th>...</th>\n",
       "      <th>Crm Cd 3</th>\n",
       "      <th>Crm Cd 4</th>\n",
       "      <th>LOCATION</th>\n",
       "      <th>Cross Street</th>\n",
       "      <th>LAT</th>\n",
       "      <th>LON</th>\n",
       "      <th>Year</th>\n",
       "      <th>Month</th>\n",
       "      <th>Day</th>\n",
       "      <th>Crime_Category</th>\n",
       "    </tr>\n",
       "  </thead>\n",
       "  <tbody>\n",
       "    <tr>\n",
       "      <th>0</th>\n",
       "      <td>190326475</td>\n",
       "      <td>03/01/2020 12:00:00 AM</td>\n",
       "      <td>2020-03-01</td>\n",
       "      <td>2130</td>\n",
       "      <td>7</td>\n",
       "      <td>Wilshire</td>\n",
       "      <td>784</td>\n",
       "      <td>1</td>\n",
       "      <td>510</td>\n",
       "      <td>VEHICLE - STOLEN</td>\n",
       "      <td>...</td>\n",
       "      <td>NaN</td>\n",
       "      <td>NaN</td>\n",
       "      <td>1900 S  LONGWOOD                     AV</td>\n",
       "      <td>NaN</td>\n",
       "      <td>34.0375</td>\n",
       "      <td>-118.3506</td>\n",
       "      <td>2020</td>\n",
       "      <td>3</td>\n",
       "      <td>1</td>\n",
       "      <td>Property Crime</td>\n",
       "    </tr>\n",
       "    <tr>\n",
       "      <th>1</th>\n",
       "      <td>200106753</td>\n",
       "      <td>02/09/2020 12:00:00 AM</td>\n",
       "      <td>2020-02-08</td>\n",
       "      <td>1800</td>\n",
       "      <td>1</td>\n",
       "      <td>Central</td>\n",
       "      <td>182</td>\n",
       "      <td>1</td>\n",
       "      <td>330</td>\n",
       "      <td>BURGLARY FROM VEHICLE</td>\n",
       "      <td>...</td>\n",
       "      <td>NaN</td>\n",
       "      <td>NaN</td>\n",
       "      <td>1000 S  FLOWER                       ST</td>\n",
       "      <td>NaN</td>\n",
       "      <td>34.0444</td>\n",
       "      <td>-118.2628</td>\n",
       "      <td>2020</td>\n",
       "      <td>2</td>\n",
       "      <td>8</td>\n",
       "      <td>Property Crime</td>\n",
       "    </tr>\n",
       "    <tr>\n",
       "      <th>2</th>\n",
       "      <td>200320258</td>\n",
       "      <td>11/11/2020 12:00:00 AM</td>\n",
       "      <td>2020-11-04</td>\n",
       "      <td>1700</td>\n",
       "      <td>3</td>\n",
       "      <td>Southwest</td>\n",
       "      <td>356</td>\n",
       "      <td>1</td>\n",
       "      <td>480</td>\n",
       "      <td>BIKE - STOLEN</td>\n",
       "      <td>...</td>\n",
       "      <td>NaN</td>\n",
       "      <td>NaN</td>\n",
       "      <td>1400 W  37TH                         ST</td>\n",
       "      <td>NaN</td>\n",
       "      <td>34.0210</td>\n",
       "      <td>-118.3002</td>\n",
       "      <td>2020</td>\n",
       "      <td>11</td>\n",
       "      <td>4</td>\n",
       "      <td>Property Crime</td>\n",
       "    </tr>\n",
       "    <tr>\n",
       "      <th>3</th>\n",
       "      <td>200907217</td>\n",
       "      <td>05/10/2023 12:00:00 AM</td>\n",
       "      <td>2020-03-10</td>\n",
       "      <td>2037</td>\n",
       "      <td>9</td>\n",
       "      <td>Van Nuys</td>\n",
       "      <td>964</td>\n",
       "      <td>1</td>\n",
       "      <td>343</td>\n",
       "      <td>SHOPLIFTING-GRAND THEFT ($950.01 &amp; OVER)</td>\n",
       "      <td>...</td>\n",
       "      <td>NaN</td>\n",
       "      <td>NaN</td>\n",
       "      <td>14000    RIVERSIDE                    DR</td>\n",
       "      <td>NaN</td>\n",
       "      <td>34.1576</td>\n",
       "      <td>-118.4387</td>\n",
       "      <td>2020</td>\n",
       "      <td>3</td>\n",
       "      <td>10</td>\n",
       "      <td>Property Crime</td>\n",
       "    </tr>\n",
       "    <tr>\n",
       "      <th>4</th>\n",
       "      <td>200412582</td>\n",
       "      <td>09/09/2020 12:00:00 AM</td>\n",
       "      <td>2020-09-09</td>\n",
       "      <td>630</td>\n",
       "      <td>4</td>\n",
       "      <td>Hollenbeck</td>\n",
       "      <td>413</td>\n",
       "      <td>1</td>\n",
       "      <td>510</td>\n",
       "      <td>VEHICLE - STOLEN</td>\n",
       "      <td>...</td>\n",
       "      <td>NaN</td>\n",
       "      <td>NaN</td>\n",
       "      <td>200 E  AVENUE 28</td>\n",
       "      <td>NaN</td>\n",
       "      <td>34.0820</td>\n",
       "      <td>-118.2130</td>\n",
       "      <td>2020</td>\n",
       "      <td>9</td>\n",
       "      <td>9</td>\n",
       "      <td>Property Crime</td>\n",
       "    </tr>\n",
       "  </tbody>\n",
       "</table>\n",
       "<p>5 rows × 32 columns</p>\n",
       "</div>"
      ],
      "text/plain": [
       "       DR_NO               Date Rptd   DATE OCC  TIME OCC  AREA   AREA NAME  \\\n",
       "0  190326475  03/01/2020 12:00:00 AM 2020-03-01      2130     7    Wilshire   \n",
       "1  200106753  02/09/2020 12:00:00 AM 2020-02-08      1800     1     Central   \n",
       "2  200320258  11/11/2020 12:00:00 AM 2020-11-04      1700     3   Southwest   \n",
       "3  200907217  05/10/2023 12:00:00 AM 2020-03-10      2037     9    Van Nuys   \n",
       "4  200412582  09/09/2020 12:00:00 AM 2020-09-09       630     4  Hollenbeck   \n",
       "\n",
       "   Rpt Dist No  Part 1-2  Crm Cd                               Crm Cd Desc  \\\n",
       "0          784         1     510                          VEHICLE - STOLEN   \n",
       "1          182         1     330                     BURGLARY FROM VEHICLE   \n",
       "2          356         1     480                             BIKE - STOLEN   \n",
       "3          964         1     343  SHOPLIFTING-GRAND THEFT ($950.01 & OVER)   \n",
       "4          413         1     510                          VEHICLE - STOLEN   \n",
       "\n",
       "   ... Crm Cd 3  Crm Cd 4                                  LOCATION  \\\n",
       "0  ...      NaN       NaN   1900 S  LONGWOOD                     AV   \n",
       "1  ...      NaN       NaN   1000 S  FLOWER                       ST   \n",
       "2  ...      NaN       NaN   1400 W  37TH                         ST   \n",
       "3  ...      NaN       NaN  14000    RIVERSIDE                    DR   \n",
       "4  ...      NaN       NaN                          200 E  AVENUE 28   \n",
       "\n",
       "  Cross Street      LAT       LON  Year Month Day  Crime_Category  \n",
       "0          NaN  34.0375 -118.3506  2020     3   1  Property Crime  \n",
       "1          NaN  34.0444 -118.2628  2020     2   8  Property Crime  \n",
       "2          NaN  34.0210 -118.3002  2020    11   4  Property Crime  \n",
       "3          NaN  34.1576 -118.4387  2020     3  10  Property Crime  \n",
       "4          NaN  34.0820 -118.2130  2020     9   9  Property Crime  \n",
       "\n",
       "[5 rows x 32 columns]"
      ]
     },
     "execution_count": 9,
     "metadata": {},
     "output_type": "execute_result"
    }
   ],
   "source": [
    "df.head()"
   ]
  },
  {
   "cell_type": "code",
   "execution_count": 10,
   "metadata": {},
   "outputs": [],
   "source": [
    "import matplotlib.pyplot as plt\n",
    "import seaborn as sns"
   ]
  },
  {
   "cell_type": "code",
   "execution_count": 11,
   "metadata": {},
   "outputs": [
    {
     "data": {
      "image/png": "[encoded data removed]",
      "text/plain": [
       "<Figure size 1200x800 with 1 Axes>"
      ]
     },
     "metadata": {},
     "output_type": "display_data"
    }
   ],
   "source": [
    "crime_per_area = df['AREA NAME'].value_counts()\n",
    "\n",
    "plt.figure(figsize=(12, 8))\n",
    "crime_per_area.plot(kind='bar')\n",
    "plt.title('Quantity of Crime per Area')\n",
    "plt.xlabel('Area Name')\n",
    "plt.ylabel('Number of Crimes')\n",
    "plt.xticks(rotation=90)\n",
    "plt.show()"
   ]
  },
  {
   "cell_type": "code",
   "execution_count": 12,
   "metadata": {},
   "outputs": [
    {
     "data": {
      "image/png": "[encoded data removed]",
      "text/plain": [
       "<Figure size 1200x800 with 1 Axes>"
      ]
     },
     "metadata": {},
     "output_type": "display_data"
    }
   ],
   "source": [
    "crime_per_category = df['Crime_Category'].value_counts()\n",
    "\n",
    "plt.figure(figsize=(12, 8))\n",
    "crime_per_category.plot(kind='bar')\n",
    "plt.title('Quantity of Crime per category')\n",
    "plt.xlabel('Crime_Category')\n",
    "plt.ylabel('Number of Crimes')\n",
    "plt.xticks(rotation=90)\n",
    "plt.show()"
   ]
  },
  {
   "cell_type": "code",
   "execution_count": 13,
   "metadata": {},
   "outputs": [],
   "source": [
    "bins = [0, 18, 35, 60, np.inf]\n",
    "labels = ['Child/Teen', 'Young Adult', 'Adult', 'Senior']\n",
    "df['Vict_Age_Group'] = pd.cut(df['Vict Age'], bins=bins, labels=labels, right=False)"
   ]
  },
  {
   "cell_type": "code",
   "execution_count": 14,
   "metadata": {},
   "outputs": [
    {
     "data": {
      "text/plain": [
       "Index(['DR_NO', 'AREA NAME', 'Vict Sex', 'LOCATION', 'LAT', 'LON', 'Year',\n",
       "       'Month', 'Day', 'Crime_Category', 'Vict_Age_Group'],\n",
       "      dtype='object')"
      ]
     },
     "execution_count": 14,
     "metadata": {},
     "output_type": "execute_result"
    }
   ],
   "source": [
    "column = [  'Date Rptd', 'DATE OCC', 'TIME OCC', 'AREA', 'Vict Descent',\n",
    "       'Rpt Dist No', 'Part 1-2', 'Crm Cd', 'Crm Cd Desc', 'Mocodes', 'Premis Cd', 'Premis Desc',\n",
    "       'Weapon Used Cd', 'Weapon Desc', 'Status', 'Status Desc', 'Crm Cd 1',\n",
    "       'Crm Cd 2', 'Crm Cd 3', 'Crm Cd 4', 'Cross Street', 'Vict Age']\n",
    "\n",
    "df.drop(columns=column, inplace=True)\n",
    "\n",
    "df.columns"
   ]
  },
  {
   "cell_type": "code",
   "execution_count": 15,
   "metadata": {},
   "outputs": [
    {
     "data": {
      "text/plain": [
       "DR_NO                  0\n",
       "AREA NAME              0\n",
       "Vict Sex          144592\n",
       "LOCATION               0\n",
       "LAT                    0\n",
       "LON                    0\n",
       "Year                   0\n",
       "Month                  0\n",
       "Day                    0\n",
       "Crime_Category         0\n",
       "Vict_Age_Group       135\n",
       "dtype: int64"
      ]
     },
     "execution_count": 15,
     "metadata": {},
     "output_type": "execute_result"
    }
   ],
   "source": [
    "df.isna().sum()"
   ]
  },
  {
   "cell_type": "code",
   "execution_count": 16,
   "metadata": {},
   "outputs": [],
   "source": [
    "mapping = {\n",
    "    'M': 'M',\n",
    "    'F': 'F',\n",
    "    'X': 'Other',\n",
    "    'H': 'Other',\n",
    "    '-': 'Other'\n",
    "}\n",
    "\n",
    "df['Vict Sex'] = df['Vict Sex'].map(mapping)"
   ]
  },
  {
   "cell_type": "code",
   "execution_count": 17,
   "metadata": {},
   "outputs": [
    {
     "name": "stderr",
     "output_type": "stream",
     "text": [
      "C:\\Users\\OM yadav\\AppData\\Local\\Temp\\ipykernel_16456\\4013225973.py:1: FutureWarning: A value is trying to be set on a copy of a DataFrame or Series through chained assignment using an inplace method.\n",
      "The behavior will change in pandas 3.0. This inplace method will never work because the intermediate object on which we are setting values always behaves as a copy.\n",
      "\n",
      "For example, when doing 'df[col].method(value, inplace=True)', try using 'df.method({col: value}, inplace=True)' or df[col] = df[col].method(value) instead, to perform the operation inplace on the original object.\n",
      "\n",
      "\n",
      "  df['Vict Sex'].fillna(\"Other\", inplace=True)\n"
     ]
    }
   ],
   "source": [
    "df['Vict Sex'].fillna(\"Other\", inplace=True)"
   ]
  },
  {
   "cell_type": "code",
   "execution_count": 18,
   "metadata": {},
   "outputs": [
    {
     "name": "stderr",
     "output_type": "stream",
     "text": [
      "C:\\Users\\OM yadav\\AppData\\Local\\Temp\\ipykernel_16456\\2745445893.py:1: FutureWarning: A value is trying to be set on a copy of a DataFrame or Series through chained assignment using an inplace method.\n",
      "The behavior will change in pandas 3.0. This inplace method will never work because the intermediate object on which we are setting values always behaves as a copy.\n",
      "\n",
      "For example, when doing 'df[col].method(value, inplace=True)', try using 'df.method({col: value}, inplace=True)' or df[col] = df[col].method(value) instead, to perform the operation inplace on the original object.\n",
      "\n",
      "\n",
      "  df['Vict_Age_Group'].fillna(\"Adult\", inplace=True)\n"
     ]
    }
   ],
   "source": [
    "df['Vict_Age_Group'].fillna(\"Adult\", inplace=True)"
   ]
  },
  {
   "cell_type": "code",
   "execution_count": 19,
   "metadata": {},
   "outputs": [
    {
     "data": {
      "text/plain": [
       "Vict_Age_Group\n",
       "Adult          318543\n",
       "Young Adult    299664\n",
       "Child/Teen     294485\n",
       "Senior          90756\n",
       "Name: count, dtype: int64"
      ]
     },
     "execution_count": 19,
     "metadata": {},
     "output_type": "execute_result"
    }
   ],
   "source": [
    "df['Vict_Age_Group'].value_counts()"
   ]
  },
  {
   "cell_type": "code",
   "execution_count": 20,
   "metadata": {},
   "outputs": [],
   "source": [
    "from sklearn.model_selection import train_test_split\n",
    "from sklearn.metrics import mean_squared_error\n",
    "from sklearn.ensemble import RandomForestRegressor, RandomForestClassifier\n",
    "from sklearn.tree import DecisionTreeRegressor\n",
    "from sklearn.linear_model import LogisticRegression\n",
    "from sklearn.preprocessing import OneHotEncoder\n",
    "from sklearn.preprocessing import LabelEncoder\n",
    "from sklearn.metrics import mean_squared_error, mean_absolute_error, r2_score\n",
    "import xgboost as xgb"
   ]
  },
  {
   "cell_type": "code",
   "execution_count": 21,
   "metadata": {},
   "outputs": [
    {
     "name": "stdout",
     "output_type": "stream",
     "text": [
      "Aggregated Data Sample:\n",
      "   Month  Year    AREA NAME Vict Sex         Crime_Category  Crime_Count\n",
      "0      1  2020  77th Street        F            Child Crime           11\n",
      "1      1  2020  77th Street        F  Fraud/Financial Crime           40\n",
      "2      1  2020  77th Street        F   Legal/Administrative           31\n",
      "3      1  2020  77th Street        F                  Other           94\n",
      "4      1  2020  77th Street        F         Property Crime          114\n",
      "5      1  2020  77th Street        F              Sex Crime           11\n",
      "6      1  2020  77th Street        F          Violent Crime          273\n",
      "7      1  2020  77th Street        M            Child Crime            1\n",
      "8      1  2020  77th Street        M  Fraud/Financial Crime           40\n",
      "9      1  2020  77th Street        M   Legal/Administrative           12\n"
     ]
    }
   ],
   "source": [
    "agg_df = df.groupby(['Month','Year', 'AREA NAME',  'Vict Sex', 'Crime_Category']) \\\n",
    "           .size().reset_index(name='Crime_Count')\n",
    "\n",
    "\n",
    "print(\"Aggregated Data Sample:\")\n",
    "print(agg_df.head(10))"
   ]
  },
  {
   "cell_type": "code",
   "execution_count": 22,
   "metadata": {},
   "outputs": [
    {
     "name": "stdout",
     "output_type": "stream",
     "text": [
      "Index(['Month', 'Year', 'AREA NAME', 'Vict Sex', 'Crime_Category',\n",
      "       'Crime_Count'],\n",
      "      dtype='object')\n"
     ]
    }
   ],
   "source": [
    "print(agg_df.columns)"
   ]
  },
  {
   "cell_type": "code",
   "execution_count": 23,
   "metadata": {},
   "outputs": [
    {
     "name": "stdout",
     "output_type": "stream",
     "text": [
      "20.0\n"
     ]
    }
   ],
   "source": [
    "median_count = agg_df['Crime_Count'].median()\n",
    "print(median_count)\n",
    "\n",
    "def categorize_crime(count):\n",
    "    if count <= 20:\n",
    "        return 'Low'\n",
    "    elif count <= 40:\n",
    "        return 'Medium'\n",
    "    else:\n",
    "        return 'High'\n",
    "\n",
    "\n"
   ]
  },
  {
   "cell_type": "code",
   "execution_count": 24,
   "metadata": {},
   "outputs": [
    {
     "name": "stdout",
     "output_type": "stream",
     "text": [
      "   Crime_Count Crime_Level\n",
      "0           11         Low\n",
      "1           40      Medium\n",
      "2           31      Medium\n",
      "3           94        High\n",
      "4          114        High\n"
     ]
    }
   ],
   "source": [
    "\n",
    "agg_df['Crime_Level'] = agg_df['Crime_Count'].apply(categorize_crime)\n",
    "print(agg_df[['Crime_Count', 'Crime_Level']].head())"
   ]
  },
  {
   "cell_type": "code",
   "execution_count": 25,
   "metadata": {},
   "outputs": [],
   "source": [
    "agg_df.drop(columns='Crime_Count', inplace=True)"
   ]
  },
  {
   "cell_type": "code",
   "execution_count": 26,
   "metadata": {},
   "outputs": [],
   "source": [
    "le = LabelEncoder()\n",
    "agg_df['Crime_Level'] = le.fit_transform(agg_df['Crime_Level'])\n",
    "agg_df['AREA NAME'] = le.fit_transform(agg_df['AREA NAME'])\n",
    "\n",
    "agg_df['Vict Sex'] = le.fit_transform(agg_df['Vict Sex'])\n",
    "agg_df['Crime_Category'] = le.fit_transform(agg_df['Crime_Category'])\n",
    "\n"
   ]
  },
  {
   "cell_type": "code",
   "execution_count": 27,
   "metadata": {},
   "outputs": [
    {
     "data": {
      "text/plain": [
       "Index(['Month', 'Year', 'AREA NAME', 'Vict Sex', 'Crime_Category',\n",
       "       'Crime_Level'],\n",
       "      dtype='object')"
      ]
     },
     "execution_count": 27,
     "metadata": {},
     "output_type": "execute_result"
    }
   ],
   "source": [
    "agg_df.columns"
   ]
  },
  {
   "cell_type": "code",
   "execution_count": 28,
   "metadata": {},
   "outputs": [
    {
     "data": {
      "text/html": [
       "<div>\n",
       "<style scoped>\n",
       "    .dataframe tbody tr th:only-of-type {\n",
       "        vertical-align: middle;\n",
       "    }\n",
       "\n",
       "    .dataframe tbody tr th {\n",
       "        vertical-align: top;\n",
       "    }\n",
       "\n",
       "    .dataframe thead th {\n",
       "        text-align: right;\n",
       "    }\n",
       "</style>\n",
       "<table border=\"1\" class=\"dataframe\">\n",
       "  <thead>\n",
       "    <tr style=\"text-align: right;\">\n",
       "      <th></th>\n",
       "      <th>Month</th>\n",
       "      <th>Year</th>\n",
       "      <th>AREA NAME</th>\n",
       "      <th>Vict Sex</th>\n",
       "      <th>Crime_Category</th>\n",
       "      <th>Crime_Level</th>\n",
       "    </tr>\n",
       "  </thead>\n",
       "  <tbody>\n",
       "    <tr>\n",
       "      <th>0</th>\n",
       "      <td>1</td>\n",
       "      <td>2020</td>\n",
       "      <td>0</td>\n",
       "      <td>0</td>\n",
       "      <td>0</td>\n",
       "      <td>1</td>\n",
       "    </tr>\n",
       "    <tr>\n",
       "      <th>1</th>\n",
       "      <td>1</td>\n",
       "      <td>2020</td>\n",
       "      <td>0</td>\n",
       "      <td>0</td>\n",
       "      <td>2</td>\n",
       "      <td>2</td>\n",
       "    </tr>\n",
       "    <tr>\n",
       "      <th>2</th>\n",
       "      <td>1</td>\n",
       "      <td>2020</td>\n",
       "      <td>0</td>\n",
       "      <td>0</td>\n",
       "      <td>3</td>\n",
       "      <td>2</td>\n",
       "    </tr>\n",
       "    <tr>\n",
       "      <th>3</th>\n",
       "      <td>1</td>\n",
       "      <td>2020</td>\n",
       "      <td>0</td>\n",
       "      <td>0</td>\n",
       "      <td>4</td>\n",
       "      <td>0</td>\n",
       "    </tr>\n",
       "    <tr>\n",
       "      <th>4</th>\n",
       "      <td>1</td>\n",
       "      <td>2020</td>\n",
       "      <td>0</td>\n",
       "      <td>0</td>\n",
       "      <td>5</td>\n",
       "      <td>0</td>\n",
       "    </tr>\n",
       "    <tr>\n",
       "      <th>5</th>\n",
       "      <td>1</td>\n",
       "      <td>2020</td>\n",
       "      <td>0</td>\n",
       "      <td>0</td>\n",
       "      <td>6</td>\n",
       "      <td>1</td>\n",
       "    </tr>\n",
       "    <tr>\n",
       "      <th>6</th>\n",
       "      <td>1</td>\n",
       "      <td>2020</td>\n",
       "      <td>0</td>\n",
       "      <td>0</td>\n",
       "      <td>8</td>\n",
       "      <td>0</td>\n",
       "    </tr>\n",
       "    <tr>\n",
       "      <th>7</th>\n",
       "      <td>1</td>\n",
       "      <td>2020</td>\n",
       "      <td>0</td>\n",
       "      <td>1</td>\n",
       "      <td>0</td>\n",
       "      <td>1</td>\n",
       "    </tr>\n",
       "    <tr>\n",
       "      <th>8</th>\n",
       "      <td>1</td>\n",
       "      <td>2020</td>\n",
       "      <td>0</td>\n",
       "      <td>1</td>\n",
       "      <td>2</td>\n",
       "      <td>2</td>\n",
       "    </tr>\n",
       "    <tr>\n",
       "      <th>9</th>\n",
       "      <td>1</td>\n",
       "      <td>2020</td>\n",
       "      <td>0</td>\n",
       "      <td>1</td>\n",
       "      <td>3</td>\n",
       "      <td>1</td>\n",
       "    </tr>\n",
       "    <tr>\n",
       "      <th>10</th>\n",
       "      <td>1</td>\n",
       "      <td>2020</td>\n",
       "      <td>0</td>\n",
       "      <td>1</td>\n",
       "      <td>4</td>\n",
       "      <td>0</td>\n",
       "    </tr>\n",
       "    <tr>\n",
       "      <th>11</th>\n",
       "      <td>1</td>\n",
       "      <td>2020</td>\n",
       "      <td>0</td>\n",
       "      <td>1</td>\n",
       "      <td>5</td>\n",
       "      <td>0</td>\n",
       "    </tr>\n",
       "    <tr>\n",
       "      <th>12</th>\n",
       "      <td>1</td>\n",
       "      <td>2020</td>\n",
       "      <td>0</td>\n",
       "      <td>1</td>\n",
       "      <td>6</td>\n",
       "      <td>1</td>\n",
       "    </tr>\n",
       "    <tr>\n",
       "      <th>13</th>\n",
       "      <td>1</td>\n",
       "      <td>2020</td>\n",
       "      <td>0</td>\n",
       "      <td>1</td>\n",
       "      <td>8</td>\n",
       "      <td>0</td>\n",
       "    </tr>\n",
       "    <tr>\n",
       "      <th>14</th>\n",
       "      <td>1</td>\n",
       "      <td>2020</td>\n",
       "      <td>0</td>\n",
       "      <td>2</td>\n",
       "      <td>2</td>\n",
       "      <td>1</td>\n",
       "    </tr>\n",
       "    <tr>\n",
       "      <th>15</th>\n",
       "      <td>1</td>\n",
       "      <td>2020</td>\n",
       "      <td>0</td>\n",
       "      <td>2</td>\n",
       "      <td>4</td>\n",
       "      <td>2</td>\n",
       "    </tr>\n",
       "    <tr>\n",
       "      <th>16</th>\n",
       "      <td>1</td>\n",
       "      <td>2020</td>\n",
       "      <td>0</td>\n",
       "      <td>2</td>\n",
       "      <td>5</td>\n",
       "      <td>0</td>\n",
       "    </tr>\n",
       "    <tr>\n",
       "      <th>17</th>\n",
       "      <td>1</td>\n",
       "      <td>2020</td>\n",
       "      <td>0</td>\n",
       "      <td>2</td>\n",
       "      <td>7</td>\n",
       "      <td>1</td>\n",
       "    </tr>\n",
       "    <tr>\n",
       "      <th>18</th>\n",
       "      <td>1</td>\n",
       "      <td>2020</td>\n",
       "      <td>0</td>\n",
       "      <td>2</td>\n",
       "      <td>8</td>\n",
       "      <td>2</td>\n",
       "    </tr>\n",
       "    <tr>\n",
       "      <th>19</th>\n",
       "      <td>1</td>\n",
       "      <td>2020</td>\n",
       "      <td>1</td>\n",
       "      <td>0</td>\n",
       "      <td>0</td>\n",
       "      <td>1</td>\n",
       "    </tr>\n",
       "  </tbody>\n",
       "</table>\n",
       "</div>"
      ],
      "text/plain": [
       "    Month  Year  AREA NAME  Vict Sex  Crime_Category  Crime_Level\n",
       "0       1  2020          0         0               0            1\n",
       "1       1  2020          0         0               2            2\n",
       "2       1  2020          0         0               3            2\n",
       "3       1  2020          0         0               4            0\n",
       "4       1  2020          0         0               5            0\n",
       "5       1  2020          0         0               6            1\n",
       "6       1  2020          0         0               8            0\n",
       "7       1  2020          0         1               0            1\n",
       "8       1  2020          0         1               2            2\n",
       "9       1  2020          0         1               3            1\n",
       "10      1  2020          0         1               4            0\n",
       "11      1  2020          0         1               5            0\n",
       "12      1  2020          0         1               6            1\n",
       "13      1  2020          0         1               8            0\n",
       "14      1  2020          0         2               2            1\n",
       "15      1  2020          0         2               4            2\n",
       "16      1  2020          0         2               5            0\n",
       "17      1  2020          0         2               7            1\n",
       "18      1  2020          0         2               8            2\n",
       "19      1  2020          1         0               0            1"
      ]
     },
     "execution_count": 28,
     "metadata": {},
     "output_type": "execute_result"
    }
   ],
   "source": [
    "agg_df.head(20)"
   ]
  },
  {
   "cell_type": "code",
   "execution_count": 29,
   "metadata": {},
   "outputs": [],
   "source": [
    "x = agg_df[['AREA NAME','Month', 'Year', 'AREA NAME',  'Vict Sex' ,'Crime_Category']]\n",
    "\n",
    "y = agg_df['Crime_Level']"
   ]
  },
  {
   "cell_type": "code",
   "execution_count": 30,
   "metadata": {},
   "outputs": [],
   "source": [
    "X_train, X_test, y_train, y_test = train_test_split(x, y, test_size=0.2, random_state=42)"
   ]
  },
  {
   "cell_type": "code",
   "execution_count": 31,
   "metadata": {},
   "outputs": [],
   "source": [
    "def regression_accuracy(y_true, y_pred, tolerance=0.01):\n",
    "    y_true = np.array(y_true)\n",
    "    y_pred = np.array(y_pred)\n",
    "    relative_error = np.where(y_true != 0, np.abs(y_true - y_pred) / np.abs(y_true), np.abs(y_pred))\n",
    "    accuracy = np.mean(relative_error <= tolerance)\n",
    "    return accuracy"
   ]
  },
  {
   "cell_type": "code",
   "execution_count": 32,
   "metadata": {},
   "outputs": [
    {
     "name": "stdout",
     "output_type": "stream",
     "text": [
      "MAE: 0.1388\n",
      "MSE: 0.2207\n",
      "R2 Score: 0.4859\n",
      "Decision Tree Regressor Accuracy (within 5% tolerance): 0.9021512838306731\n"
     ]
    },
    {
     "name": "stderr",
     "output_type": "stream",
     "text": [
      "C:\\Users\\OM yadav\\AppData\\Local\\Temp\\ipykernel_16456\\1971489696.py:4: RuntimeWarning: divide by zero encountered in divide\n",
      "  relative_error = np.where(y_true != 0, np.abs(y_true - y_pred) / np.abs(y_true), np.abs(y_pred))\n",
      "C:\\Users\\OM yadav\\AppData\\Local\\Temp\\ipykernel_16456\\1971489696.py:4: RuntimeWarning: invalid value encountered in divide\n",
      "  relative_error = np.where(y_true != 0, np.abs(y_true - y_pred) / np.abs(y_true), np.abs(y_pred))\n"
     ]
    }
   ],
   "source": [
    "dt_reg = DecisionTreeRegressor(random_state=42)\n",
    "dt_reg.fit(X_train, y_train)\n",
    "y_pred_dt = dt_reg.predict(X_test)\n",
    "acc_dt = regression_accuracy(y_test, y_pred_dt, tolerance=0.01)\n",
    "mse = mean_squared_error(y_test, y_pred_dt)\n",
    "mae = mean_absolute_error(y_test, y_pred_dt)\n",
    "r2 = r2_score(y_test, y_pred_dt)\n",
    "\n",
    "print(f\"MAE: {mae:.4f}\")\n",
    "print(f\"MSE: {mse:.4f}\")\n",
    "print(f\"R2 Score: {r2:.4f}\")\n",
    "print(\"Decision Tree Regressor Accuracy (within 5% tolerance):\", acc_dt)"
   ]
  },
  {
   "cell_type": "code",
   "execution_count": 33,
   "metadata": {},
   "outputs": [
    {
     "name": "stdout",
     "output_type": "stream",
     "text": [
      "MAE: 0.1409\n",
      "MSE: 0.1302\n",
      "R2 Score: 0.6966\n",
      "RandomForest Regressor Accuracy (within 5% tolerance) on test set: 0.7473976405274115\n"
     ]
    },
    {
     "name": "stderr",
     "output_type": "stream",
     "text": [
      "C:\\Users\\OM yadav\\AppData\\Local\\Temp\\ipykernel_16456\\1971489696.py:4: RuntimeWarning: divide by zero encountered in divide\n",
      "  relative_error = np.where(y_true != 0, np.abs(y_true - y_pred) / np.abs(y_true), np.abs(y_pred))\n",
      "C:\\Users\\OM yadav\\AppData\\Local\\Temp\\ipykernel_16456\\1971489696.py:4: RuntimeWarning: invalid value encountered in divide\n",
      "  relative_error = np.where(y_true != 0, np.abs(y_true - y_pred) / np.abs(y_true), np.abs(y_pred))\n"
     ]
    }
   ],
   "source": [
    "rf_model = RandomForestRegressor(\n",
    "    n_estimators=100,\n",
    "      random_state=42\n",
    ")\n",
    "\n",
    "rf_model.fit(X_train, y_train)\n",
    "y_pred_rfr = rf_model.predict(X_test)\n",
    "\n",
    "mse = mean_squared_error(y_test, y_pred_rfr)\n",
    "mae = mean_absolute_error(y_test, y_pred_rfr)\n",
    "r2 = r2_score(y_test, y_pred_rfr)\n",
    "\n",
    "print(f\"MAE: {mae:.4f}\")\n",
    "print(f\"MSE: {mse:.4f}\")\n",
    "print(f\"R2 Score: {r2:.4f}\")\n",
    "acc_rf = regression_accuracy(y_test, y_pred_rfr, tolerance=0.05)\n",
    "print(\"RandomForest Regressor Accuracy (within 5% tolerance) on test set:\", acc_rf)"
   ]
  },
  {
   "cell_type": "code",
   "execution_count": 34,
   "metadata": {},
   "outputs": [
    {
     "name": "stdout",
     "output_type": "stream",
     "text": [
      "RandomForest Classifier Accuracy: 0.9266712930835068\n"
     ]
    }
   ],
   "source": [
    "rf_clf = RandomForestClassifier(n_estimators=100, random_state=42)\n",
    "rf_clf.fit(X_train, y_train)\n",
    "y_pred_rf_clf = rf_clf.predict(X_test)\n",
    "acc_rf_clf = np.mean(y_pred_rf_clf == y_test)\n",
    "print(\"RandomForest Classifier Accuracy:\", acc_rf_clf)"
   ]
  },
  {
   "cell_type": "code",
   "execution_count": 35,
   "metadata": {},
   "outputs": [
    {
     "name": "stdout",
     "output_type": "stream",
     "text": [
      "Logistic Regression Accuracy: 0.508674531575295\n"
     ]
    }
   ],
   "source": [
    "log_reg = LogisticRegression(max_iter=10000)\n",
    "log_reg.fit(X_train, y_train)\n",
    "y_pred_log = log_reg.predict(X_test)\n",
    "acc_log = np.mean(y_pred_log == y_test)\n",
    "print(\"Logistic Regression Accuracy:\", acc_log)"
   ]
  },
  {
   "cell_type": "code",
   "execution_count": 36,
   "metadata": {},
   "outputs": [],
   "source": [
    "import pickle \n",
    "\n",
    "with open(\"rf_clf_pred.pkl\",\"wb\") as f:\n",
    "    pickle.dump(rf_clf,f)"
   ]
  },
  {
   "cell_type": "code",
   "execution_count": 37,
   "metadata": {},
   "outputs": [
    {
     "name": "stdout",
     "output_type": "stream",
     "text": [
      "   month area name vict sex         crime category  year  prediction\n",
      "0      1  Wilshire        M         Property Crime  2025           0\n",
      "1      1  Wilshire        M          Violent Crime  2025           0\n",
      "2      1  Wilshire        M              Sex Crime  2025           1\n",
      "3      1  Wilshire        M                  Other  2025           0\n",
      "4      1  Wilshire        M  Fraud/Financial Crime  2025           2\n"
     ]
    }
   ],
   "source": [
    "import pandas as pd\n",
    "import itertools\n",
    "from sklearn.preprocessing import LabelEncoder\n",
    "\n",
    "# Define the unique values from your dataset (ensure these match your training data)\n",
    "months = list(range(1, 13))\n",
    "area_names = ['Wilshire', 'Central', 'Southwest', 'Van Nuys', 'Hollenbeck',\n",
    "              'Rampart', 'Newton', 'Northeast', '77th Street', 'Hollywood',\n",
    "              'Harbor', 'West Valley', 'West LA', 'N Hollywood', 'Pacific',\n",
    "              'Devonshire', 'Mission', 'Southeast', 'Olympic', 'Foothill',\n",
    "              'Topanga']\n",
    "vict_sexes = ['M', 'F', 'Other']\n",
    "crime_categories = ['Property Crime', 'Violent Crime', 'Sex Crime', 'Other',\n",
    "                    'Fraud/Financial Crime', 'Legal/Administrative', 'Cyber Crime',\n",
    "                    'Child Crime', 'Traffic Offense']\n",
    "\n",
    "# Create all possible combinations of the features\n",
    "combinations = list(itertools.product(months, area_names, vict_sexes, crime_categories))\n",
    "\n",
    "# Create a DataFrame from the combinations with original (unencoded) values\n",
    "new_data = pd.DataFrame(combinations, columns=['month', 'area name', 'vict sex', 'crime category'])\n",
    "new_data['year'] = 2025\n",
    "\n",
    "# Save a copy of the original new_data for output (unencoded values)\n",
    "new_data_original = new_data.copy()\n",
    "\n",
    "# Create a copy for encoding and predictions\n",
    "encoded_data = new_data.copy()\n",
    "\n",
    "# Initialize label encoders\n",
    "le_area = LabelEncoder()\n",
    "le_crime = LabelEncoder()\n",
    "le_sex = LabelEncoder()\n",
    "\n",
    "# Fit the encoders using the training unique values\n",
    "le_area.fit(area_names)\n",
    "le_crime.fit(crime_categories)\n",
    "le_sex.fit(vict_sexes)\n",
    "\n",
    "# Transform the categorical columns in the encoded_data\n",
    "encoded_data['area name'] = le_area.transform(encoded_data['area name'])\n",
    "encoded_data['crime category'] = le_crime.transform(encoded_data['crime category'])\n",
    "encoded_data['vict sex'] = le_sex.transform(encoded_data['vict sex'])\n",
    "\n",
    "# Rename the columns to match those used during model training\n",
    "encoded_data.rename(columns={\n",
    "    'month': 'Month',\n",
    "    'area name': 'AREA NAME',\n",
    "    'vict sex': 'Vict Sex',\n",
    "    'crime category': 'Crime_Category',\n",
    "    'year': 'Year'\n",
    "}, inplace=True)\n",
    "\n",
    "# Reorder columns to match training (using model's stored feature names if available)\n",
    "try:\n",
    "    encoded_data = encoded_data[rf_clf.feature_names_in_]\n",
    "except AttributeError:\n",
    "    # Replace the list below with the order used during your training if different\n",
    "    encoded_data = encoded_data[['AREA NAME', 'Crime_Category', 'Month', 'Vict Sex', 'Year']]\n",
    "\n",
    "# Generate predictions using the random forest classifier (stored as rf_clf)\n",
    "predictions = rf_clf.predict(encoded_data)\n",
    "\n",
    "# Attach predictions to the original new_data (with unencoded values)\n",
    "new_data_original['prediction'] = predictions\n",
    "\n",
    "# Display the first few rows of the output DataFrame\n",
    "print(new_data_original.head())\n"
   ]
  },
  {
   "cell_type": "code",
   "execution_count": 38,
   "metadata": {},
   "outputs": [],
   "source": [
    "with open(\"predictions.pkl\",\"wb\") as f:\n",
    "    pickle.dump(new_data_original,f)"
   ]
  },
  {
   "cell_type": "code",
   "execution_count": null,
   "metadata": {},
   "outputs": [],
   "source": []
  }
 ],
 "metadata": {
  "kernelspec": {
   "display_name": "Python 3",
   "language": "python",
   "name": "python3"
  },
  "language_info": {
   "codemirror_mode": {
    "name": "ipython",
    "version": 3
   },
   "file_extension": ".py",
   "mimetype": "text/x-python",
   "name": "python",
   "nbconvert_exporter": "python",
   "pygments_lexer": "ipython3",
   "version": "3.12.1"
  }
 },
 "nbformat": 4,
 "nbformat_minor": 2
}
